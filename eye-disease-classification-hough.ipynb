{
 "cells": [
  {
   "cell_type": "code",
   "execution_count": 1,
   "id": "43654ead",
   "metadata": {
    "_cell_guid": "b1076dfc-b9ad-4769-8c92-a6c4dae69d19",
    "_uuid": "8f2839f25d086af736a60e9eeb907d3b93b6e0e5",
    "execution": {
     "iopub.execute_input": "2022-11-01T17:52:56.486286Z",
     "iopub.status.busy": "2022-11-01T17:52:56.485917Z",
     "iopub.status.idle": "2022-11-01T17:53:00.854140Z",
     "shell.execute_reply": "2022-11-01T17:53:00.853061Z"
    },
    "papermill": {
     "duration": 4.376656,
     "end_time": "2022-11-01T17:53:00.856491",
     "exception": false,
     "start_time": "2022-11-01T17:52:56.479835",
     "status": "completed"
    },
    "tags": []
   },
   "outputs": [
    {
     "name": "stdout",
     "output_type": "stream",
     "text": [
      "['/kaggle/input/eye-diseases-classification/dataset/glaucoma/1255_right.jpg', '/kaggle/input/eye-diseases-classification/dataset/glaucoma/1482_left.jpg', '/kaggle/input/eye-diseases-classification/dataset/glaucoma/_398_8823411.jpg']\n"
     ]
    }
   ],
   "source": [
    "import numpy as np # linear algebra\n",
    "import pandas as pd # data processing, CSV file I/O (e.g. pd.read_csv)\n",
    "import random\n",
    "from skimage import feature\n",
    "from sklearn.model_selection import train_test_split\n",
    "from sklearn.svm import LinearSVC\n",
    "from sklearn import svm\n",
    "import argparse\n",
    "import cv2\n",
    "import matplotlib.pyplot as plt\n",
    "\n",
    "import os\n",
    "\n",
    "paths=[]\n",
    "labels=[]\n",
    "\n",
    "for dirname, _, filenames in os.walk('/kaggle/input'):\n",
    "    for filename in filenames:\n",
    "        paths+=[os.path.join(dirname, filename)]\n",
    "        labels+=[dirname.split('/')[-1]]\n",
    "\n",
    "print(paths[0:3])"
   ]
  },
  {
   "cell_type": "code",
   "execution_count": 2,
   "id": "6cd03261",
   "metadata": {
    "execution": {
     "iopub.execute_input": "2022-11-01T17:53:00.865945Z",
     "iopub.status.busy": "2022-11-01T17:53:00.865559Z",
     "iopub.status.idle": "2022-11-01T17:53:00.871601Z",
     "shell.execute_reply": "2022-11-01T17:53:00.870123Z"
    },
    "papermill": {
     "duration": 0.012859,
     "end_time": "2022-11-01T17:53:00.873457",
     "exception": false,
     "start_time": "2022-11-01T17:53:00.860598",
     "status": "completed"
    },
    "tags": []
   },
   "outputs": [],
   "source": [
    "def get_lines(img_path):\n",
    "    img = cv2.imread(img_path, cv2.IMREAD_COLOR) # road.png is the filename\n",
    "    gray = cv2.cvtColor(img, cv2.COLOR_BGR2GRAY)\n",
    "    edges = cv2.Canny(gray, 50, 200)\n",
    "    lines = cv2.HoughLinesP(edges, 1, np.pi/180, 10, minLineLength=10, maxLineGap=250)\n",
    "#     lines = cv2.HoughLinesP(edges, 1, np.pi / 180, 50, None, 50, 10)\n",
    "#     lines = cv2.HoughLines(edges, 1, np.pi / 180, 150, 100, 0, 0)\n",
    "    \n",
    "    return lines"
   ]
  },
  {
   "cell_type": "code",
   "execution_count": 3,
   "id": "7d3e14a9",
   "metadata": {
    "execution": {
     "iopub.execute_input": "2022-11-01T17:53:00.883250Z",
     "iopub.status.busy": "2022-11-01T17:53:00.882900Z",
     "iopub.status.idle": "2022-11-01T17:53:00.888453Z",
     "shell.execute_reply": "2022-11-01T17:53:00.887291Z"
    },
    "papermill": {
     "duration": 0.012695,
     "end_time": "2022-11-01T17:53:00.890714",
     "exception": false,
     "start_time": "2022-11-01T17:53:00.878019",
     "status": "completed"
    },
    "tags": []
   },
   "outputs": [],
   "source": [
    "def get_circles(img_path):\n",
    "    img = cv2.imread(img_path, cv2.IMREAD_COLOR)\n",
    "    gray = cv2.cvtColor(img, cv2.COLOR_BGR2GRAY)\n",
    "    img_blur = cv2.medianBlur(gray, 5)\n",
    "    circles = cv2.HoughCircles(img_blur, cv2.HOUGH_GRADIENT, 1, 40, param1=100, param2=30, minRadius=1, maxRadius=40)\n",
    "\n",
    "    return circles"
   ]
  },
  {
   "cell_type": "code",
   "execution_count": 4,
   "id": "d6bebfbf",
   "metadata": {
    "execution": {
     "iopub.execute_input": "2022-11-01T17:53:00.899850Z",
     "iopub.status.busy": "2022-11-01T17:53:00.899529Z",
     "iopub.status.idle": "2022-11-01T17:53:00.908164Z",
     "shell.execute_reply": "2022-11-01T17:53:00.906402Z"
    },
    "papermill": {
     "duration": 0.015791,
     "end_time": "2022-11-01T17:53:00.910486",
     "exception": false,
     "start_time": "2022-11-01T17:53:00.894695",
     "status": "completed"
    },
    "tags": []
   },
   "outputs": [],
   "source": [
    "def extract_feature_hough(img_paths_df):\n",
    "#     print((img_paths_df))\n",
    "    data = []\n",
    "    labels = []\n",
    "    counter = 1\n",
    "    for i in img_paths_df.index:\n",
    "        img_path = img_paths_df[\"path\"][i]\n",
    "        label = img_paths_df[\"label\"][i]\n",
    "        if counter % 50 == 0:\n",
    "            print(counter)\n",
    "#         image = cv2.imread(img_path)\n",
    "# #         print(img_path)\n",
    "# #         plt.imshow(plt.imread(img_path))\n",
    "# #         plt.show()\n",
    "#         gray = cv2.cvtColor(image, cv2.COLOR_BGR2GRAY)\n",
    "#         hist = desc.describe(gray)\n",
    "        \n",
    "#         img_blur = cv2.medianBlur(gray, 5)\n",
    "#         circles = cv2.HoughCircles(img_blur, cv2.HOUGH_GRADIENT,1, 40, param1=100, param2=30, minRadius=1, maxRadius=40)\n",
    "#         circles = circles if circles is not None else np.zeros((1,1,1))\n",
    "#         cycle_count = circles.flatten()\n",
    "        \n",
    "#         edges = cv2.Canny(gray, 50, 200)\n",
    "#         lines = cv2.HoughLinesP(edges,1,np.pi/180,100,minLineLength=10,maxLineGap=250)\n",
    "        \n",
    "        lines = get_lines(img_path)\n",
    "        circles = get_circles(img_path)\n",
    "        circles = circles if circles is not None else np.zeros((1,1,1))\n",
    "        lines = lines if lines is not None else np.zeros((1,1,1,1))\n",
    "        \n",
    "        shite = []\n",
    "        for line in lines:\n",
    "            shite.extend(line[0])\n",
    "    \n",
    "        labels.append(label)\n",
    "#         data.append([len(lines), len(circles)])\n",
    "        data.append(shite)\n",
    "#         data.append\n",
    "        \n",
    "        counter += 1\n",
    "    \n",
    "    return labels, data\n"
   ]
  },
  {
   "cell_type": "code",
   "execution_count": 5,
   "id": "89dd0942",
   "metadata": {
    "execution": {
     "iopub.execute_input": "2022-11-01T17:53:00.919556Z",
     "iopub.status.busy": "2022-11-01T17:53:00.919244Z",
     "iopub.status.idle": "2022-11-01T17:53:00.923879Z",
     "shell.execute_reply": "2022-11-01T17:53:00.923311Z"
    },
    "papermill": {
     "duration": 0.011207,
     "end_time": "2022-11-01T17:53:00.925561",
     "exception": false,
     "start_time": "2022-11-01T17:53:00.914354",
     "status": "completed"
    },
    "tags": []
   },
   "outputs": [
    {
     "name": "stdout",
     "output_type": "stream",
     "text": [
      "[10, 1, 2, 3, 4]\n"
     ]
    }
   ],
   "source": [
    "len(np.zeros((1,1,1, 1)))\n",
    "a = [1,2,3,4]\n",
    "b = [10]\n",
    "b.extend(a)\n",
    "print(b)\n"
   ]
  },
  {
   "cell_type": "code",
   "execution_count": 6,
   "id": "9c29f60b",
   "metadata": {
    "execution": {
     "iopub.execute_input": "2022-11-01T17:53:00.934538Z",
     "iopub.status.busy": "2022-11-01T17:53:00.934033Z",
     "iopub.status.idle": "2022-11-01T17:53:00.961884Z",
     "shell.execute_reply": "2022-11-01T17:53:00.961299Z"
    },
    "papermill": {
     "duration": 0.034514,
     "end_time": "2022-11-01T17:53:00.964026",
     "exception": false,
     "start_time": "2022-11-01T17:53:00.929512",
     "status": "completed"
    },
    "tags": []
   },
   "outputs": [
    {
     "data": {
      "text/plain": [
       "diabetic_retinopathy    1098\n",
       "normal                  1074\n",
       "cataract                1038\n",
       "glaucoma                1007\n",
       "Name: label, dtype: int64"
      ]
     },
     "metadata": {},
     "output_type": "display_data"
    }
   ],
   "source": [
    "data_df=pd.DataFrame(columns=['path','label'])\n",
    "data_df['path']=paths\n",
    "data_df['label']=labels\n",
    "data_df = data_df.sample(frac=1).reset_index(drop=True)\n",
    "\n",
    "# display(data_df)\n",
    "# print(len(data_df))\n",
    "display(data_df['label'].value_counts())\n",
    "# data_df.head()"
   ]
  },
  {
   "cell_type": "code",
   "execution_count": 7,
   "id": "0dd10715",
   "metadata": {
    "execution": {
     "iopub.execute_input": "2022-11-01T17:53:00.973687Z",
     "iopub.status.busy": "2022-11-01T17:53:00.973174Z",
     "iopub.status.idle": "2022-11-01T17:53:00.979133Z",
     "shell.execute_reply": "2022-11-01T17:53:00.978012Z"
    },
    "papermill": {
     "duration": 0.013748,
     "end_time": "2022-11-01T17:53:00.981747",
     "exception": false,
     "start_time": "2022-11-01T17:53:00.967999",
     "status": "completed"
    },
    "tags": []
   },
   "outputs": [
    {
     "name": "stdout",
     "output_type": "stream",
     "text": [
      "10\n"
     ]
    }
   ],
   "source": [
    "data_df = data_df[:10]\n",
    "print(len(data_df))\n",
    "train_data_df, test_data_df = train_test_split(data_df, test_size=0.2)"
   ]
  },
  {
   "cell_type": "code",
   "execution_count": 8,
   "id": "65aaf711",
   "metadata": {
    "execution": {
     "iopub.execute_input": "2022-11-01T17:53:00.992207Z",
     "iopub.status.busy": "2022-11-01T17:53:00.991844Z",
     "iopub.status.idle": "2022-11-01T17:53:01.099834Z",
     "shell.execute_reply": "2022-11-01T17:53:01.098509Z"
    },
    "papermill": {
     "duration": 0.11735,
     "end_time": "2022-11-01T17:53:01.103698",
     "exception": false,
     "start_time": "2022-11-01T17:53:00.986348",
     "status": "completed"
    },
    "tags": []
   },
   "outputs": [
    {
     "name": "stdout",
     "output_type": "stream",
     "text": [
      "[275  22 400 459]\n"
     ]
    }
   ],
   "source": [
    "for i in train_data_df.index:\n",
    "    img_path = train_data_df[\"path\"][i]\n",
    "    label = train_data_df[\"label\"][i]\n",
    "\n",
    "    lines = get_lines(img_path)\n",
    "    circles = get_circles(img_path)\n",
    "    \n",
    "    if lines is not None:\n",
    "        for i in range(0, len(lines)):\n",
    "            l = lines[i][0]\n",
    "            print(l)\n",
    "            break\n",
    "    \n",
    "#     print(lines)\n",
    "#     shite = []\n",
    "#     for line in lines:\n",
    "# #         print(line[0])\n",
    "#         shite.extend(line[0])\n",
    "# #         break\n",
    "#     print(shite)\n",
    "    break\n",
    "    \n",
    "\n"
   ]
  },
  {
   "cell_type": "code",
   "execution_count": 9,
   "id": "bb28fbf9",
   "metadata": {
    "execution": {
     "iopub.execute_input": "2022-11-01T17:53:01.113735Z",
     "iopub.status.busy": "2022-11-01T17:53:01.112574Z",
     "iopub.status.idle": "2022-11-01T17:53:01.332618Z",
     "shell.execute_reply": "2022-11-01T17:53:01.331686Z"
    },
    "papermill": {
     "duration": 0.226971,
     "end_time": "2022-11-01T17:53:01.334844",
     "exception": false,
     "start_time": "2022-11-01T17:53:01.107873",
     "status": "completed"
    },
    "tags": []
   },
   "outputs": [],
   "source": [
    "img_labels, img_data = extract_feature_hough(train_data_df)"
   ]
  },
  {
   "cell_type": "code",
   "execution_count": 10,
   "id": "8043790b",
   "metadata": {
    "execution": {
     "iopub.execute_input": "2022-11-01T17:53:01.344427Z",
     "iopub.status.busy": "2022-11-01T17:53:01.344059Z",
     "iopub.status.idle": "2022-11-01T17:53:01.349766Z",
     "shell.execute_reply": "2022-11-01T17:53:01.348203Z"
    },
    "papermill": {
     "duration": 0.01263,
     "end_time": "2022-11-01T17:53:01.351532",
     "exception": false,
     "start_time": "2022-11-01T17:53:01.338902",
     "status": "completed"
    },
    "tags": []
   },
   "outputs": [
    {
     "name": "stdout",
     "output_type": "stream",
     "text": [
      "8\n",
      "['diabetic_retinopathy', 'normal', 'diabetic_retinopathy', 'diabetic_retinopathy', 'glaucoma', 'glaucoma', 'glaucoma', 'cataract']\n"
     ]
    }
   ],
   "source": [
    "# for shit in img_data:\n",
    "#     print(shit)\n",
    "print(len(img_data))\n",
    "print(img_labels)"
   ]
  },
  {
   "cell_type": "code",
   "execution_count": 11,
   "id": "0c723cbf",
   "metadata": {
    "execution": {
     "iopub.execute_input": "2022-11-01T17:53:01.360654Z",
     "iopub.status.busy": "2022-11-01T17:53:01.360358Z",
     "iopub.status.idle": "2022-11-01T17:53:01.430470Z",
     "shell.execute_reply": "2022-11-01T17:53:01.429821Z"
    },
    "papermill": {
     "duration": 0.076838,
     "end_time": "2022-11-01T17:53:01.432367",
     "exception": false,
     "start_time": "2022-11-01T17:53:01.355529",
     "status": "completed"
    },
    "tags": []
   },
   "outputs": [],
   "source": [
    "img_labels_test, img_data_test = extract_feature_hough(test_data_df)"
   ]
  },
  {
   "cell_type": "code",
   "execution_count": 12,
   "id": "0780c98d",
   "metadata": {
    "execution": {
     "iopub.execute_input": "2022-11-01T17:53:01.442843Z",
     "iopub.status.busy": "2022-11-01T17:53:01.441704Z",
     "iopub.status.idle": "2022-11-01T17:53:01.544325Z",
     "shell.execute_reply": "2022-11-01T17:53:01.542904Z"
    },
    "papermill": {
     "duration": 0.109353,
     "end_time": "2022-11-01T17:53:01.545941",
     "exception": true,
     "start_time": "2022-11-01T17:53:01.436588",
     "status": "failed"
    },
    "tags": []
   },
   "outputs": [
    {
     "ename": "ValueError",
     "evalue": "setting an array element with a sequence. The requested array has an inhomogeneous shape after 1 dimensions. The detected shape was (8,) + inhomogeneous part.",
     "output_type": "error",
     "traceback": [
      "\u001b[0;31m---------------------------------------------------------------------------\u001b[0m",
      "\u001b[0;31mValueError\u001b[0m                                Traceback (most recent call last)",
      "\u001b[0;32m/tmp/ipykernel_19/1144003009.py\u001b[0m in \u001b[0;36m<module>\u001b[0;34m\u001b[0m\n\u001b[1;32m      1\u001b[0m \u001b[0mmodel\u001b[0m \u001b[0;34m=\u001b[0m \u001b[0mLinearSVC\u001b[0m\u001b[0;34m(\u001b[0m\u001b[0mdual\u001b[0m\u001b[0;34m=\u001b[0m\u001b[0;32mFalse\u001b[0m\u001b[0;34m,\u001b[0m \u001b[0mC\u001b[0m\u001b[0;34m=\u001b[0m\u001b[0;36m100.0\u001b[0m\u001b[0;34m,\u001b[0m \u001b[0mrandom_state\u001b[0m\u001b[0;34m=\u001b[0m\u001b[0;36m42\u001b[0m\u001b[0;34m)\u001b[0m\u001b[0;34m\u001b[0m\u001b[0;34m\u001b[0m\u001b[0m\n\u001b[0;32m----> 2\u001b[0;31m \u001b[0mmodel\u001b[0m\u001b[0;34m.\u001b[0m\u001b[0mfit\u001b[0m\u001b[0;34m(\u001b[0m\u001b[0mimg_data\u001b[0m\u001b[0;34m,\u001b[0m \u001b[0mimg_labels\u001b[0m\u001b[0;34m)\u001b[0m\u001b[0;34m\u001b[0m\u001b[0;34m\u001b[0m\u001b[0m\n\u001b[0m\u001b[1;32m      3\u001b[0m \u001b[0mpred\u001b[0m \u001b[0;34m=\u001b[0m \u001b[0mmodel\u001b[0m\u001b[0;34m.\u001b[0m\u001b[0mpredict\u001b[0m\u001b[0;34m(\u001b[0m\u001b[0mimg_data_test\u001b[0m\u001b[0;34m)\u001b[0m\u001b[0;34m\u001b[0m\u001b[0;34m\u001b[0m\u001b[0m\n\u001b[1;32m      4\u001b[0m \u001b[0;34m\u001b[0m\u001b[0m\n\u001b[1;32m      5\u001b[0m \u001b[0;32mfrom\u001b[0m \u001b[0msklearn\u001b[0m \u001b[0;32mimport\u001b[0m \u001b[0mmetrics\u001b[0m\u001b[0;34m\u001b[0m\u001b[0;34m\u001b[0m\u001b[0m\n",
      "\u001b[0;32m/opt/conda/lib/python3.7/site-packages/sklearn/svm/_classes.py\u001b[0m in \u001b[0;36mfit\u001b[0;34m(self, X, y, sample_weight)\u001b[0m\n\u001b[1;32m    250\u001b[0m             \u001b[0mdtype\u001b[0m\u001b[0;34m=\u001b[0m\u001b[0mnp\u001b[0m\u001b[0;34m.\u001b[0m\u001b[0mfloat64\u001b[0m\u001b[0;34m,\u001b[0m\u001b[0;34m\u001b[0m\u001b[0;34m\u001b[0m\u001b[0m\n\u001b[1;32m    251\u001b[0m             \u001b[0morder\u001b[0m\u001b[0;34m=\u001b[0m\u001b[0;34m\"C\"\u001b[0m\u001b[0;34m,\u001b[0m\u001b[0;34m\u001b[0m\u001b[0;34m\u001b[0m\u001b[0m\n\u001b[0;32m--> 252\u001b[0;31m             \u001b[0maccept_large_sparse\u001b[0m\u001b[0;34m=\u001b[0m\u001b[0;32mFalse\u001b[0m\u001b[0;34m,\u001b[0m\u001b[0;34m\u001b[0m\u001b[0;34m\u001b[0m\u001b[0m\n\u001b[0m\u001b[1;32m    253\u001b[0m         )\n\u001b[1;32m    254\u001b[0m         \u001b[0mcheck_classification_targets\u001b[0m\u001b[0;34m(\u001b[0m\u001b[0my\u001b[0m\u001b[0;34m)\u001b[0m\u001b[0;34m\u001b[0m\u001b[0;34m\u001b[0m\u001b[0m\n",
      "\u001b[0;32m/opt/conda/lib/python3.7/site-packages/sklearn/base.py\u001b[0m in \u001b[0;36m_validate_data\u001b[0;34m(self, X, y, reset, validate_separately, **check_params)\u001b[0m\n\u001b[1;32m    579\u001b[0m                 \u001b[0my\u001b[0m \u001b[0;34m=\u001b[0m \u001b[0mcheck_array\u001b[0m\u001b[0;34m(\u001b[0m\u001b[0my\u001b[0m\u001b[0;34m,\u001b[0m \u001b[0;34m**\u001b[0m\u001b[0mcheck_y_params\u001b[0m\u001b[0;34m)\u001b[0m\u001b[0;34m\u001b[0m\u001b[0;34m\u001b[0m\u001b[0m\n\u001b[1;32m    580\u001b[0m             \u001b[0;32melse\u001b[0m\u001b[0;34m:\u001b[0m\u001b[0;34m\u001b[0m\u001b[0;34m\u001b[0m\u001b[0m\n\u001b[0;32m--> 581\u001b[0;31m                 \u001b[0mX\u001b[0m\u001b[0;34m,\u001b[0m \u001b[0my\u001b[0m \u001b[0;34m=\u001b[0m \u001b[0mcheck_X_y\u001b[0m\u001b[0;34m(\u001b[0m\u001b[0mX\u001b[0m\u001b[0;34m,\u001b[0m \u001b[0my\u001b[0m\u001b[0;34m,\u001b[0m \u001b[0;34m**\u001b[0m\u001b[0mcheck_params\u001b[0m\u001b[0;34m)\u001b[0m\u001b[0;34m\u001b[0m\u001b[0;34m\u001b[0m\u001b[0m\n\u001b[0m\u001b[1;32m    582\u001b[0m             \u001b[0mout\u001b[0m \u001b[0;34m=\u001b[0m \u001b[0mX\u001b[0m\u001b[0;34m,\u001b[0m \u001b[0my\u001b[0m\u001b[0;34m\u001b[0m\u001b[0;34m\u001b[0m\u001b[0m\n\u001b[1;32m    583\u001b[0m \u001b[0;34m\u001b[0m\u001b[0m\n",
      "\u001b[0;32m/opt/conda/lib/python3.7/site-packages/sklearn/utils/validation.py\u001b[0m in \u001b[0;36mcheck_X_y\u001b[0;34m(X, y, accept_sparse, accept_large_sparse, dtype, order, copy, force_all_finite, ensure_2d, allow_nd, multi_output, ensure_min_samples, ensure_min_features, y_numeric, estimator)\u001b[0m\n\u001b[1;32m    974\u001b[0m         \u001b[0mensure_min_samples\u001b[0m\u001b[0;34m=\u001b[0m\u001b[0mensure_min_samples\u001b[0m\u001b[0;34m,\u001b[0m\u001b[0;34m\u001b[0m\u001b[0;34m\u001b[0m\u001b[0m\n\u001b[1;32m    975\u001b[0m         \u001b[0mensure_min_features\u001b[0m\u001b[0;34m=\u001b[0m\u001b[0mensure_min_features\u001b[0m\u001b[0;34m,\u001b[0m\u001b[0;34m\u001b[0m\u001b[0;34m\u001b[0m\u001b[0m\n\u001b[0;32m--> 976\u001b[0;31m         \u001b[0mestimator\u001b[0m\u001b[0;34m=\u001b[0m\u001b[0mestimator\u001b[0m\u001b[0;34m,\u001b[0m\u001b[0;34m\u001b[0m\u001b[0;34m\u001b[0m\u001b[0m\n\u001b[0m\u001b[1;32m    977\u001b[0m     )\n\u001b[1;32m    978\u001b[0m \u001b[0;34m\u001b[0m\u001b[0m\n",
      "\u001b[0;32m/opt/conda/lib/python3.7/site-packages/sklearn/utils/validation.py\u001b[0m in \u001b[0;36mcheck_array\u001b[0;34m(array, accept_sparse, accept_large_sparse, dtype, order, copy, force_all_finite, ensure_2d, allow_nd, ensure_min_samples, ensure_min_features, estimator)\u001b[0m\n\u001b[1;32m    744\u001b[0m                     \u001b[0marray\u001b[0m \u001b[0;34m=\u001b[0m \u001b[0marray\u001b[0m\u001b[0;34m.\u001b[0m\u001b[0mastype\u001b[0m\u001b[0;34m(\u001b[0m\u001b[0mdtype\u001b[0m\u001b[0;34m,\u001b[0m \u001b[0mcasting\u001b[0m\u001b[0;34m=\u001b[0m\u001b[0;34m\"unsafe\"\u001b[0m\u001b[0;34m,\u001b[0m \u001b[0mcopy\u001b[0m\u001b[0;34m=\u001b[0m\u001b[0;32mFalse\u001b[0m\u001b[0;34m)\u001b[0m\u001b[0;34m\u001b[0m\u001b[0;34m\u001b[0m\u001b[0m\n\u001b[1;32m    745\u001b[0m                 \u001b[0;32melse\u001b[0m\u001b[0;34m:\u001b[0m\u001b[0;34m\u001b[0m\u001b[0;34m\u001b[0m\u001b[0m\n\u001b[0;32m--> 746\u001b[0;31m                     \u001b[0marray\u001b[0m \u001b[0;34m=\u001b[0m \u001b[0mnp\u001b[0m\u001b[0;34m.\u001b[0m\u001b[0masarray\u001b[0m\u001b[0;34m(\u001b[0m\u001b[0marray\u001b[0m\u001b[0;34m,\u001b[0m \u001b[0morder\u001b[0m\u001b[0;34m=\u001b[0m\u001b[0morder\u001b[0m\u001b[0;34m,\u001b[0m \u001b[0mdtype\u001b[0m\u001b[0;34m=\u001b[0m\u001b[0mdtype\u001b[0m\u001b[0;34m)\u001b[0m\u001b[0;34m\u001b[0m\u001b[0;34m\u001b[0m\u001b[0m\n\u001b[0m\u001b[1;32m    747\u001b[0m             \u001b[0;32mexcept\u001b[0m \u001b[0mComplexWarning\u001b[0m \u001b[0;32mas\u001b[0m \u001b[0mcomplex_warning\u001b[0m\u001b[0;34m:\u001b[0m\u001b[0;34m\u001b[0m\u001b[0;34m\u001b[0m\u001b[0m\n\u001b[1;32m    748\u001b[0m                 raise ValueError(\n",
      "\u001b[0;31mValueError\u001b[0m: setting an array element with a sequence. The requested array has an inhomogeneous shape after 1 dimensions. The detected shape was (8,) + inhomogeneous part."
     ]
    }
   ],
   "source": [
    "model = LinearSVC(dual=False, C=100.0, random_state=42)\n",
    "model.fit(img_data, img_labels)\n",
    "pred = model.predict(img_data_test)\n",
    "\n",
    "from sklearn import metrics\n",
    "print(\"Feature Extraction using: (HOUGH)\\nAccuracy:\", round(metrics.accuracy_score(img_labels_test, y_pred=pred) * 100,3),\"%\")"
   ]
  },
  {
   "cell_type": "code",
   "execution_count": null,
   "id": "75ecbd3b",
   "metadata": {
    "execution": {
     "iopub.status.busy": "2022-11-01T17:47:23.380002Z",
     "iopub.status.idle": "2022-11-01T17:47:23.380577Z",
     "shell.execute_reply": "2022-11-01T17:47:23.380293Z",
     "shell.execute_reply.started": "2022-11-01T17:47:23.380262Z"
    },
    "papermill": {
     "duration": null,
     "end_time": null,
     "exception": null,
     "start_time": null,
     "status": "pending"
    },
    "tags": []
   },
   "outputs": [],
   "source": [
    "linear = svm.SVC(kernel='linear', C=1, decision_function_shape='ovo').fit(img_data, img_labels)\n",
    "rbf = svm.SVC(kernel='rbf', gamma=1, C=1, decision_function_shape='ovo').fit(img_data, img_labels)\n",
    "poly = svm.SVC(kernel='poly', degree=3, C=1, decision_function_shape='ovo').fit(img_data, img_labels)\n",
    "sig = svm.SVC(kernel='sigmoid', C=1, decision_function_shape='ovo').fit(img_data, img_labels)"
   ]
  },
  {
   "cell_type": "code",
   "execution_count": null,
   "id": "839dc2b4",
   "metadata": {
    "execution": {
     "iopub.status.busy": "2022-11-01T17:47:23.382773Z",
     "iopub.status.idle": "2022-11-01T17:47:23.383159Z",
     "shell.execute_reply": "2022-11-01T17:47:23.382986Z",
     "shell.execute_reply.started": "2022-11-01T17:47:23.382968Z"
    },
    "papermill": {
     "duration": null,
     "end_time": null,
     "exception": null,
     "start_time": null,
     "status": "pending"
    },
    "tags": []
   },
   "outputs": [],
   "source": [
    "linear_pred = linear.predict(img_data_test)\n",
    "poly_pred = poly.predict(img_data_test)\n",
    "rbf_pred = rbf.predict(img_data_test)\n",
    "sig_pred = sig.predict(img_data_test)"
   ]
  },
  {
   "cell_type": "code",
   "execution_count": null,
   "id": "07d85b9e",
   "metadata": {
    "execution": {
     "iopub.status.busy": "2022-11-01T17:47:23.384438Z",
     "iopub.status.idle": "2022-11-01T17:47:23.385126Z",
     "shell.execute_reply": "2022-11-01T17:47:23.384939Z",
     "shell.execute_reply.started": "2022-11-01T17:47:23.384919Z"
    },
    "papermill": {
     "duration": null,
     "end_time": null,
     "exception": null,
     "start_time": null,
     "status": "pending"
    },
    "tags": []
   },
   "outputs": [],
   "source": [
    "accuracy_lin = linear.score(img_data_test, img_labels_test)\n",
    "accuracy_poly = poly.score(img_data_test, img_labels_test)\n",
    "accuracy_rbf = rbf.score(img_data_test, img_labels_test)\n",
    "accuracy_sig = sig.score(img_data_test, img_labels_test)\n",
    "\n",
    "print(\"Accuracy Linear Kernel:\", round(accuracy_lin * 100,3),\"%\")\n",
    "print(\"Accuracy Polynomial Kernel:\", round(accuracy_poly * 100,3),\"%\")\n",
    "print(\"Accuracy Radial Basis Kernel:\", round(accuracy_rbf * 100,3),\"%\")\n",
    "print(\"Accuracy Sigmoid Kernel:\", round(accuracy_sig * 100,3),\"%\")"
   ]
  }
 ],
 "metadata": {
  "kernelspec": {
   "display_name": "Python 3",
   "language": "python",
   "name": "python3"
  },
  "language_info": {
   "codemirror_mode": {
    "name": "ipython",
    "version": 3
   },
   "file_extension": ".py",
   "mimetype": "text/x-python",
   "name": "python",
   "nbconvert_exporter": "python",
   "pygments_lexer": "ipython3",
   "version": "3.7.12"
  },
  "papermill": {
   "default_parameters": {},
   "duration": 13.229407,
   "end_time": "2022-11-01T17:53:02.271490",
   "environment_variables": {},
   "exception": true,
   "input_path": "__notebook__.ipynb",
   "output_path": "__notebook__.ipynb",
   "parameters": {},
   "start_time": "2022-11-01T17:52:49.042083",
   "version": "2.3.4"
  }
 },
 "nbformat": 4,
 "nbformat_minor": 5
}
